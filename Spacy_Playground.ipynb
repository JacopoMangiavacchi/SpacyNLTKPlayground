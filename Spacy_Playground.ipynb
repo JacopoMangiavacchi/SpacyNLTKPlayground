{
  "nbformat": 4,
  "nbformat_minor": 0,
  "metadata": {
    "colab": {
      "name": "Spacy Cheat Sheet.ipynb",
      "version": "0.3.2",
      "provenance": [],
      "collapsed_sections": []
    },
    "kernelspec": {
      "name": "python3",
      "display_name": "Python 3"
    }
  },
  "cells": [
    {
      "cell_type": "code",
      "metadata": {
        "id": "ztTI1GIMBud9",
        "colab_type": "code",
        "colab": {}
      },
      "source": [
        "# !python -m spacy download en_core_web_lg"
      ],
      "execution_count": 0,
      "outputs": []
    },
    {
      "cell_type": "code",
      "metadata": {
        "id": "DHWSCQ_37Pn-",
        "colab_type": "code",
        "colab": {}
      },
      "source": [
        "import spacy\n",
        "\n",
        "# nlp = spacy.load(\"en_core_web_sm\")\n",
        "nlp = spacy.load(\"en_core_web_lg\")"
      ],
      "execution_count": 0,
      "outputs": []
    },
    {
      "cell_type": "markdown",
      "metadata": {
        "id": "ZnBnCJ8R-PM_",
        "colab_type": "text"
      },
      "source": [
        "**TOKEN**"
      ]
    },
    {
      "cell_type": "code",
      "metadata": {
        "id": "ce64AB6C7bJp",
        "colab_type": "code",
        "colab": {
          "base_uri": "https://localhost:8080/",
          "height": 34
        },
        "outputId": "9efd9539-e0f1-4306-f6e2-2ac9692521b0"
      },
      "source": [
        "doc = nlp(\"This is a text\")\n",
        "[token.text for token in doc]"
      ],
      "execution_count": 3,
      "outputs": [
        {
          "output_type": "execute_result",
          "data": {
            "text/plain": [
              "['This', 'is', 'a', 'text']"
            ]
          },
          "metadata": {
            "tags": []
          },
          "execution_count": 3
        }
      ]
    },
    {
      "cell_type": "markdown",
      "metadata": {
        "id": "yZtEf9mb-LvF",
        "colab_type": "text"
      },
      "source": [
        "**SPAN**"
      ]
    },
    {
      "cell_type": "code",
      "metadata": {
        "id": "XsQgsaZm7jV4",
        "colab_type": "code",
        "colab": {
          "base_uri": "https://localhost:8080/",
          "height": 34
        },
        "outputId": "6138054f-2c4a-4bea-8792-ddee726c6448"
      },
      "source": [
        "doc = nlp(\"This is a text\")\n",
        "span = doc[2:5]\n",
        "span.text"
      ],
      "execution_count": 4,
      "outputs": [
        {
          "output_type": "execute_result",
          "data": {
            "text/plain": [
              "'a text'"
            ]
          },
          "metadata": {
            "tags": []
          },
          "execution_count": 4
        }
      ]
    },
    {
      "cell_type": "code",
      "metadata": {
        "id": "IPtZ8yw_7zc6",
        "colab_type": "code",
        "colab": {
          "base_uri": "https://localhost:8080/",
          "height": 34
        },
        "outputId": "135a9734-4999-4b20-fb7a-0cfdaedd6b85"
      },
      "source": [
        "from spacy.tokens import Span\n",
        "doc = nlp(\"I live in New York\")\n",
        "span = Span(doc, 3, 5, label=\"GPE\")\n",
        "span.text"
      ],
      "execution_count": 5,
      "outputs": [
        {
          "output_type": "execute_result",
          "data": {
            "text/plain": [
              "'New York'"
            ]
          },
          "metadata": {
            "tags": []
          },
          "execution_count": 5
        }
      ]
    },
    {
      "cell_type": "markdown",
      "metadata": {
        "id": "omICr1wOI60i",
        "colab_type": "text"
      },
      "source": [
        "**STOP WORDS**"
      ]
    },
    {
      "cell_type": "code",
      "metadata": {
        "id": "cmCx5pbkI8Gi",
        "colab_type": "code",
        "colab": {
          "base_uri": "https://localhost:8080/",
          "height": 51
        },
        "outputId": "48fa4a4e-89d1-460e-86f1-bb8bf2adc87c"
      },
      "source": [
        "spacy_stopwords = spacy.lang.en.stop_words.STOP_WORDS\n",
        "print('Number of stop words: %d' % len(spacy_stopwords))\n",
        "print('First ten stop words: %s' % list(spacy_stopwords)[:10])"
      ],
      "execution_count": 6,
      "outputs": [
        {
          "output_type": "stream",
          "text": [
            "Number of stop words: 326\n",
            "First ten stop words: ['thereafter', 'therein', 'else', 'had', 'indeed', 'is', 'above', 'put', 'than', 'cannot']\n"
          ],
          "name": "stdout"
        }
      ]
    },
    {
      "cell_type": "code",
      "metadata": {
        "id": "-4HQ_u7qJMDx",
        "colab_type": "code",
        "colab": {
          "base_uri": "https://localhost:8080/",
          "height": 68
        },
        "outputId": "354785f8-31cd-4a14-ad01-a39aae4ea5e1"
      },
      "source": [
        "doc = nlp(\"I live in New York City, the capital of the New York State\")\n",
        "tokens = [token.text for token in doc if not token.is_stop]\n",
        "print('Original Article: %s' % (doc))\n",
        "print()\n",
        "print(tokens)"
      ],
      "execution_count": 7,
      "outputs": [
        {
          "output_type": "stream",
          "text": [
            "Original Article: I live in New York City, the capital of the New York State\n",
            "\n",
            "['live', 'New', 'York', 'City', ',', 'capital', 'New', 'York', 'State']\n"
          ],
          "name": "stdout"
        }
      ]
    },
    {
      "cell_type": "markdown",
      "metadata": {
        "id": "qUaL9Vv7JAbU",
        "colab_type": "text"
      },
      "source": [
        "**LEMMATIZATION**"
      ]
    },
    {
      "cell_type": "code",
      "metadata": {
        "id": "x3mhaO8WJBS5",
        "colab_type": "code",
        "colab": {
          "base_uri": "https://localhost:8080/",
          "height": 51
        },
        "outputId": "ad50873d-d861-4d4c-dd7a-0638c48cdbb6"
      },
      "source": [
        "doc = nlp(\"Apples and oranges are similar. Boots and hippos aren't.\")\n",
        "print([token.text for token in doc])\n",
        "print([token.lemma_ for token in doc])"
      ],
      "execution_count": 8,
      "outputs": [
        {
          "output_type": "stream",
          "text": [
            "['Apples', 'and', 'oranges', 'are', 'similar', '.', 'Boots', 'and', 'hippos', 'are', \"n't\", '.']\n",
            "['apple', 'and', 'orange', 'be', 'similar', '.', 'boot', 'and', 'hippo', 'be', 'not', '.']\n"
          ],
          "name": "stdout"
        }
      ]
    },
    {
      "cell_type": "markdown",
      "metadata": {
        "id": "Eqs474kc-an_",
        "colab_type": "text"
      },
      "source": [
        "**PART-OF-SPEECH and Syntactic dependencies**"
      ]
    },
    {
      "cell_type": "code",
      "metadata": {
        "id": "l15Fd1u78uHP",
        "colab_type": "code",
        "colab": {
          "base_uri": "https://localhost:8080/",
          "height": 153
        },
        "outputId": "50ac0443-8399-4f37-fc54-aaf459fbafc3"
      },
      "source": [
        "doc = nlp(\"This is a text.\")\n",
        "print([token.text for token in doc])\n",
        "print([token.pos_ for token in doc])\n",
        "print([token.tag_ for token in doc])\n",
        "print([token.dep_ for token in doc])\n",
        "print([token.head.text for token in doc])\n",
        "print(spacy.explain(\"DET\"))\n",
        "print(spacy.explain(\"DT\"))\n",
        "print(spacy.explain(\"nsubj\"))"
      ],
      "execution_count": 9,
      "outputs": [
        {
          "output_type": "stream",
          "text": [
            "['This', 'is', 'a', 'text', '.']\n",
            "['DET', 'VERB', 'DET', 'NOUN', 'PUNCT']\n",
            "['DT', 'VBZ', 'DT', 'NN', '.']\n",
            "['nsubj', 'ROOT', 'det', 'attr', 'punct']\n",
            "['is', 'is', 'text', 'is', 'is']\n",
            "determiner\n",
            "determiner\n",
            "nominal subject\n"
          ],
          "name": "stdout"
        }
      ]
    },
    {
      "cell_type": "markdown",
      "metadata": {
        "id": "NhqK-BAD-hyD",
        "colab_type": "text"
      },
      "source": [
        "**NAMED ENTITIES**"
      ]
    },
    {
      "cell_type": "code",
      "metadata": {
        "id": "FKci3dyI9jXy",
        "colab_type": "code",
        "colab": {
          "base_uri": "https://localhost:8080/",
          "height": 34
        },
        "outputId": "9e4c7f91-9fdd-4da7-b6cb-7743e0a70a02"
      },
      "source": [
        "doc = nlp(\"Larry Page founded Google\")\n",
        "print([(ent.text, ent.label_) for ent in doc.ents])"
      ],
      "execution_count": 10,
      "outputs": [
        {
          "output_type": "stream",
          "text": [
            "[('Larry Page', 'PERSON'), ('Google', 'ORG')]\n"
          ],
          "name": "stdout"
        }
      ]
    },
    {
      "cell_type": "markdown",
      "metadata": {
        "id": "2SmWNYn_-nW-",
        "colab_type": "text"
      },
      "source": [
        "**SENTENCES**"
      ]
    },
    {
      "cell_type": "code",
      "metadata": {
        "id": "U-uj4ENR9-Rf",
        "colab_type": "code",
        "colab": {
          "base_uri": "https://localhost:8080/",
          "height": 34
        },
        "outputId": "ba15581b-0192-414e-966a-f18d7b2edfa9"
      },
      "source": [
        "doc = nlp(\"This a sentence. This is another one.\")\n",
        "print([sent.text for sent in doc.sents])"
      ],
      "execution_count": 11,
      "outputs": [
        {
          "output_type": "stream",
          "text": [
            "['This a sentence.', 'This is another one.']\n"
          ],
          "name": "stdout"
        }
      ]
    },
    {
      "cell_type": "markdown",
      "metadata": {
        "id": "0FBWLlvg-rol",
        "colab_type": "text"
      },
      "source": [
        "**CHUNK and Base noun phrases**"
      ]
    },
    {
      "cell_type": "code",
      "metadata": {
        "id": "JSVr7xm8-pd4",
        "colab_type": "code",
        "colab": {
          "base_uri": "https://localhost:8080/",
          "height": 34
        },
        "outputId": "b8118014-baf9-4cd7-c8c6-8a63e04d64b8"
      },
      "source": [
        "doc = nlp(\"I have a red car\")\n",
        "print([chunk.text for chunk in doc.noun_chunks])"
      ],
      "execution_count": 12,
      "outputs": [
        {
          "output_type": "stream",
          "text": [
            "['I', 'a red car']\n"
          ],
          "name": "stdout"
        }
      ]
    },
    {
      "cell_type": "markdown",
      "metadata": {
        "id": "C3_cRbLz_9yU",
        "colab_type": "text"
      },
      "source": [
        "**WORD VECTORS and SIMILARITY**"
      ]
    },
    {
      "cell_type": "code",
      "metadata": {
        "id": "orJq76kY_9h3",
        "colab_type": "code",
        "colab": {
          "base_uri": "https://localhost:8080/",
          "height": 68
        },
        "outputId": "7241822d-028f-4f47-a9f9-310f58507560"
      },
      "source": [
        "doc1 = nlp(\"I like cats\")\n",
        "doc2 = nlp(\"I like dogs\")\n",
        "print(doc1.similarity(doc2))\n",
        "print(doc1[2], \"-\", doc2[2], doc1[2].similarity(doc2[2]))\n",
        "print(doc1[0], \"-\", doc2[1:3], doc1[0].similarity(doc2[1:3]))"
      ],
      "execution_count": 13,
      "outputs": [
        {
          "output_type": "stream",
          "text": [
            "0.957709143352323\n",
            "cats - dogs 0.83117634\n",
            "I - like dogs 0.46475166\n"
          ],
          "name": "stdout"
        }
      ]
    },
    {
      "cell_type": "code",
      "metadata": {
        "id": "XQmt0wK2CGWN",
        "colab_type": "code",
        "colab": {
          "base_uri": "https://localhost:8080/",
          "height": 901
        },
        "outputId": "1cdcc438-a1c5-44c8-c2db-da33234b0608"
      },
      "source": [
        "doc = nlp(\"I like cats\")\n",
        "print(doc[2])\n",
        "print(doc[2].vector)\n",
        "print(doc[2].vector_norm)"
      ],
      "execution_count": 14,
      "outputs": [
        {
          "output_type": "stream",
          "text": [
            "cats\n",
            "[-0.26763    0.029846  -0.3437    -0.54409   -0.49919    0.15928\n",
            " -0.35278   -0.2036     0.23482    1.5671    -0.36458   -0.028713\n",
            " -0.27053    0.2504    -0.18126    0.13453    0.25795    0.93213\n",
            " -0.12841   -0.18505   -0.57597    0.18538   -0.19147   -0.38465\n",
            "  0.21656   -0.4387    -0.27846   -0.41339    0.37859   -0.2199\n",
            " -0.25907   -0.019796  -0.31885    0.12921    0.22168    0.32671\n",
            "  0.46943   -0.81922   -0.20031    0.013561  -0.14663    0.14438\n",
            "  0.0098044 -0.15439    0.21146   -0.28409   -0.4036     0.45355\n",
            "  0.12173   -0.11516   -0.12235   -0.096467  -0.26991    0.028776\n",
            " -0.11307    0.37219   -0.054718  -0.20297   -0.23974    0.86271\n",
            "  0.25602   -0.3064     0.014714  -0.086497  -0.079054  -0.33109\n",
            "  0.54892    0.20076    0.28064    0.037788   0.0076729 -0.0050123\n",
            " -0.11619   -0.23804    0.33027    0.26034   -0.20615   -0.35744\n",
            "  0.54125   -0.3239     0.093441   0.17113   -0.41533    0.13702\n",
            " -0.21765   -0.65442    0.75733    0.359      0.62492    0.019685\n",
            "  0.21156    0.28125    0.22288    0.026787  -0.1019     0.11178\n",
            "  0.17202   -0.20403   -0.01767   -0.34351    0.11926    0.73156\n",
            "  0.11094    0.12576    0.64825   -0.80004    0.62074   -0.38557\n",
            "  0.015614   0.2664     0.18254    0.11678    0.58919   -1.0639\n",
            " -0.29969    0.14827   -0.42925   -0.090766   0.12313   -0.024253\n",
            " -0.21265   -0.10331    0.91988   -1.4097    -0.0542    -0.071201\n",
            "  0.66878   -0.24651   -0.46788   -0.23991   -0.14138   -0.038911\n",
            " -0.48678    0.22975    0.36074    0.13024   -0.40091    0.19673\n",
            "  0.016017   0.30575   -2.1901    -0.55468    0.26955    0.63815\n",
            "  0.42724   -0.070186  -0.11196    0.14079   -0.022228   0.070456\n",
            "  0.17229    0.099383  -0.12258   -0.23416   -0.26525   -0.088991\n",
            " -0.061554   0.26582   -0.53112   -0.4106     0.45211   -0.39669\n",
            " -0.43746   -0.6632    -0.048135   0.23171   -0.37665   -0.38261\n",
            " -0.29286   -0.036613   0.25354    0.49775    0.3359    -0.11285\n",
            " -0.17228    0.85991   -0.34081    0.27959    0.03698    0.61782\n",
            "  0.23739   -0.32049   -0.073717   0.015991  -0.37395   -0.4152\n",
            "  0.049221  -0.3137     0.091128  -0.38258   -0.036783   0.10902\n",
            " -0.38332   -0.74754    0.016473   0.55256   -0.29053   -0.50617\n",
            "  0.83599   -0.31783   -0.77465   -0.0049272 -0.17103   -0.38067\n",
            "  0.44987   -0.12497    0.60263   -0.12026    0.37368   -0.079952\n",
            " -0.15785    0.37684   -0.18679    0.18855   -0.4759    -0.11708\n",
            "  0.36999    0.54134    0.42752    0.038618   0.043483   0.31435\n",
            " -0.24491   -0.67818   -0.33833    0.039218  -0.11964    0.8474\n",
            "  0.09451    0.070523  -0.2806     0.296     -0.17554   -0.41087\n",
            "  0.70748    0.17686    0.043479  -0.31902    0.64584   -0.45268\n",
            " -0.7967     0.099817  -0.1734     0.11404   -0.36809    0.12035\n",
            " -0.048582   0.55945   -0.51508    0.072704   0.18106    0.07802\n",
            " -0.31526    0.38189    0.092801  -0.044227  -0.66154   -0.020428\n",
            "  0.059836  -0.23628   -0.017592  -0.56481   -0.52934   -0.16392\n",
            "  0.077331   0.24583   -0.32195   -0.36811   -0.037208   0.26702\n",
            " -0.57907    0.46457   -0.54636    0.11855    0.092475  -0.10469\n",
            "  0.03319    0.62616   -0.33684    0.045742   0.25089    0.28973\n",
            "  0.060633  -0.4096     0.39198    0.58276    0.496     -0.75881\n",
            "  0.13655    0.21704   -0.37978   -0.54051   -0.22813    0.28393\n",
            " -0.58739    1.0472    -0.13318   -0.07325    0.12991   -0.44999  ]\n",
            "6.933004\n"
          ],
          "name": "stdout"
        }
      ]
    },
    {
      "cell_type": "markdown",
      "metadata": {
        "id": "owZjVBU-MUZY",
        "colab_type": "text"
      },
      "source": [
        "**PIPELINE**"
      ]
    },
    {
      "cell_type": "code",
      "metadata": {
        "id": "gQn7byiZMvvH",
        "colab_type": "code",
        "colab": {}
      },
      "source": [
        "def custom_component(doc):\n",
        " print(\"Do something to the doc here!\")\n",
        " return doc\n",
        "\n",
        "nlp.add_pipe(custom_component, first=True)"
      ],
      "execution_count": 0,
      "outputs": []
    },
    {
      "cell_type": "code",
      "metadata": {
        "id": "KObejYIKMUG3",
        "colab_type": "code",
        "colab": {
          "base_uri": "https://localhost:8080/",
          "height": 76
        },
        "outputId": "c6ad1cf0-c91a-4111-eb12-2df2aab8d276"
      },
      "source": [
        "print(nlp.pipe_names)\n",
        "print(nlp.pipeline)"
      ],
      "execution_count": 16,
      "outputs": [
        {
          "output_type": "stream",
          "text": [
            "['custom_component', 'tagger', 'parser', 'ner']\n",
            "[('custom_component', <function custom_component at 0x7fd21c73e0d0>), ('tagger', <spacy.pipeline.pipes.Tagger object at 0x7fd23229b550>), ('parser', <spacy.pipeline.pipes.DependencyParser object at 0x7fd22fe61228>), ('ner', <spacy.pipeline.pipes.EntityRecognizer object at 0x7fd22fe61288>)]\n"
          ],
          "name": "stdout"
        }
      ]
    },
    {
      "cell_type": "markdown",
      "metadata": {
        "id": "u2IddqJs_ARQ",
        "colab_type": "text"
      },
      "source": [
        "**VISUALIZATION**"
      ]
    },
    {
      "cell_type": "code",
      "metadata": {
        "id": "cDpfNeiU_pMG",
        "colab_type": "code",
        "colab": {
          "base_uri": "https://localhost:8080/",
          "height": 76
        },
        "outputId": "eed87929-fb88-4fbf-bc80-05cfd4c6db99"
      },
      "source": [
        "from spacy import displacy\n",
        "doc = nlp(\"This is a sentence\")\n",
        "displacy.render(doc, style=\"dep\")"
      ],
      "execution_count": 17,
      "outputs": [
        {
          "output_type": "stream",
          "text": [
            "Do something to the doc here!\n"
          ],
          "name": "stdout"
        },
        {
          "output_type": "execute_result",
          "data": {
            "text/plain": [
              "'<svg xmlns=\"http://www.w3.org/2000/svg\" xmlns:xlink=\"http://www.w3.org/1999/xlink\" xml:lang=\"en\" id=\"0c841441a670430fac7ce5e1ed9a889b-0\" class=\"displacy\" width=\"750\" height=\"312.0\" direction=\"ltr\" style=\"max-width: none; height: 312.0px; color: #000000; background: #ffffff; font-family: Arial; direction: ltr\">\\n<text class=\"displacy-token\" fill=\"currentColor\" text-anchor=\"middle\" y=\"222.0\">\\n    <tspan class=\"displacy-word\" fill=\"currentColor\" x=\"50\">This</tspan>\\n    <tspan class=\"displacy-tag\" dy=\"2em\" fill=\"currentColor\" x=\"50\">DET</tspan>\\n</text>\\n\\n<text class=\"displacy-token\" fill=\"currentColor\" text-anchor=\"middle\" y=\"222.0\">\\n    <tspan class=\"displacy-word\" fill=\"currentColor\" x=\"225\">is</tspan>\\n    <tspan class=\"displacy-tag\" dy=\"2em\" fill=\"currentColor\" x=\"225\">VERB</tspan>\\n</text>\\n\\n<text class=\"displacy-token\" fill=\"currentColor\" text-anchor=\"middle\" y=\"222.0\">\\n    <tspan class=\"displacy-word\" fill=\"currentColor\" x=\"400\">a</tspan>\\n    <tspan class=\"displacy-tag\" dy=\"2em\" fill=\"currentColor\" x=\"400\">DET</tspan>\\n</text>\\n\\n<text class=\"displacy-token\" fill=\"currentColor\" text-anchor=\"middle\" y=\"222.0\">\\n    <tspan class=\"displacy-word\" fill=\"currentColor\" x=\"575\">sentence</tspan>\\n    <tspan class=\"displacy-tag\" dy=\"2em\" fill=\"currentColor\" x=\"575\">NOUN</tspan>\\n</text>\\n\\n<g class=\"displacy-arrow\">\\n    <path class=\"displacy-arc\" id=\"arrow-0c841441a670430fac7ce5e1ed9a889b-0-0\" stroke-width=\"2px\" d=\"M70,177.0 C70,89.5 220.0,89.5 220.0,177.0\" fill=\"none\" stroke=\"currentColor\"/>\\n    <text dy=\"1.25em\" style=\"font-size: 0.8em; letter-spacing: 1px\">\\n        <textPath xlink:href=\"#arrow-0c841441a670430fac7ce5e1ed9a889b-0-0\" class=\"displacy-label\" startOffset=\"50%\" side=\"left\" fill=\"currentColor\" text-anchor=\"middle\">nsubj</textPath>\\n    </text>\\n    <path class=\"displacy-arrowhead\" d=\"M70,179.0 L62,167.0 78,167.0\" fill=\"currentColor\"/>\\n</g>\\n\\n<g class=\"displacy-arrow\">\\n    <path class=\"displacy-arc\" id=\"arrow-0c841441a670430fac7ce5e1ed9a889b-0-1\" stroke-width=\"2px\" d=\"M420,177.0 C420,89.5 570.0,89.5 570.0,177.0\" fill=\"none\" stroke=\"currentColor\"/>\\n    <text dy=\"1.25em\" style=\"font-size: 0.8em; letter-spacing: 1px\">\\n        <textPath xlink:href=\"#arrow-0c841441a670430fac7ce5e1ed9a889b-0-1\" class=\"displacy-label\" startOffset=\"50%\" side=\"left\" fill=\"currentColor\" text-anchor=\"middle\">det</textPath>\\n    </text>\\n    <path class=\"displacy-arrowhead\" d=\"M420,179.0 L412,167.0 428,167.0\" fill=\"currentColor\"/>\\n</g>\\n\\n<g class=\"displacy-arrow\">\\n    <path class=\"displacy-arc\" id=\"arrow-0c841441a670430fac7ce5e1ed9a889b-0-2\" stroke-width=\"2px\" d=\"M245,177.0 C245,2.0 575.0,2.0 575.0,177.0\" fill=\"none\" stroke=\"currentColor\"/>\\n    <text dy=\"1.25em\" style=\"font-size: 0.8em; letter-spacing: 1px\">\\n        <textPath xlink:href=\"#arrow-0c841441a670430fac7ce5e1ed9a889b-0-2\" class=\"displacy-label\" startOffset=\"50%\" side=\"left\" fill=\"currentColor\" text-anchor=\"middle\">attr</textPath>\\n    </text>\\n    <path class=\"displacy-arrowhead\" d=\"M575.0,179.0 L583.0,167.0 567.0,167.0\" fill=\"currentColor\"/>\\n</g>\\n</svg>'"
            ]
          },
          "metadata": {
            "tags": []
          },
          "execution_count": 17
        }
      ]
    },
    {
      "cell_type": "code",
      "metadata": {
        "id": "vn5SNqeO_1MK",
        "colab_type": "code",
        "colab": {
          "base_uri": "https://localhost:8080/",
          "height": 76
        },
        "outputId": "f6d02c49-e132-409a-c3ea-75b0a44c714d"
      },
      "source": [
        "doc = nlp(\"Larry Page founded Google\")\n",
        "displacy.render(doc, style=\"ent\")"
      ],
      "execution_count": 18,
      "outputs": [
        {
          "output_type": "stream",
          "text": [
            "Do something to the doc here!\n"
          ],
          "name": "stdout"
        },
        {
          "output_type": "execute_result",
          "data": {
            "text/plain": [
              "'<div class=\"entities\" style=\"line-height: 2.5; direction: ltr\">\\n<mark class=\"entity\" style=\"background: #aa9cfc; padding: 0.45em 0.6em; margin: 0 0.25em; line-height: 1; border-radius: 0.35em; box-decoration-break: clone; -webkit-box-decoration-break: clone\">\\n    Larry Page\\n    <span style=\"font-size: 0.8em; font-weight: bold; line-height: 1; border-radius: 0.35em; text-transform: uppercase; vertical-align: middle; margin-left: 0.5rem\">PERSON</span>\\n</mark>\\n founded \\n<mark class=\"entity\" style=\"background: #7aecec; padding: 0.45em 0.6em; margin: 0 0.25em; line-height: 1; border-radius: 0.35em; box-decoration-break: clone; -webkit-box-decoration-break: clone\">\\n    Google\\n    <span style=\"font-size: 0.8em; font-weight: bold; line-height: 1; border-radius: 0.35em; text-transform: uppercase; vertical-align: middle; margin-left: 0.5rem\">ORG</span>\\n</mark>\\n</div>'"
            ]
          },
          "metadata": {
            "tags": []
          },
          "execution_count": 18
        }
      ]
    }
  ]
}